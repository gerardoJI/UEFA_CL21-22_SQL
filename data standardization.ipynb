{
 "cells": [
  {
   "cell_type": "markdown",
   "metadata": {},
   "source": [
    "# UEFA CL 2021/2022 Season statistics\n",
    "### In this notebook, the data in the CSV files is cleaned and organized before being exported to MySQL."
   ]
  },
  {
   "cell_type": "code",
   "execution_count": null,
   "metadata": {},
   "outputs": [],
   "source": [
    "# import the pandas library and fuctions library\n",
    "import pandas as pd\n",
    "import functions as f"
   ]
  },
  {
   "cell_type": "code",
   "execution_count": null,
   "metadata": {},
   "outputs": [
    {
     "name": "stdout",
     "output_type": "stream",
     "text": [
      "Number of rows before cleaning: 176\n",
      "Number of rows after cleaning: 176\n",
      "No rows with null values were deleted.\n",
      "\n",
      "Number of rows before cleaning: 546\n",
      "Number of rows after cleaning: 543\n",
      "Rows with null values were deleted.\n",
      "\n",
      "Number of rows before cleaning: 627\n",
      "Number of rows after cleaning: 626\n",
      "Rows with null values were deleted.\n",
      "\n",
      "Number of rows before cleaning: 584\n",
      "Number of rows after cleaning: 582\n",
      "Rows with null values were deleted.\n",
      "\n",
      "Number of rows before cleaning: 608\n",
      "Number of rows after cleaning: 608\n",
      "No rows with null values were deleted.\n",
      "\n",
      "Number of rows before cleaning: 53\n",
      "Number of rows after cleaning: 53\n",
      "No rows with null values were deleted.\n",
      "\n",
      "Number of rows before cleaning: 183\n",
      "Number of rows after cleaning: 183\n",
      "No rows with null values were deleted.\n",
      "\n"
     ]
    },
    {
     "data": {
      "text/plain": [
       "['Data/data_attacking_fmodified.csv',\n",
       " 'Data/data_attempts_fmodified.csv',\n",
       " 'Data/defending_fmodified.csv',\n",
       " 'Data/disciplinary_fmodified.csv',\n",
       " 'Data/distributon_fmodified.csv',\n",
       " 'Data/goalkeeping_fmodified.csv',\n",
       " 'Data/goals_fmodified.csv']"
      ]
     },
     "execution_count": 2,
     "metadata": {},
     "output_type": "execute_result"
    }
   ],
   "source": [
    "f.add_id_to_file() #Apply add_id_to_file function to add id column and check data for each cvs file."
   ]
  },
  {
   "cell_type": "code",
   "execution_count": null,
   "metadata": {},
   "outputs": [],
   "source": [
    "f.main_file() #Generate main csv"
   ]
  }
 ],
 "metadata": {
  "kernelspec": {
   "display_name": "en_p1",
   "language": "python",
   "name": "python3"
  },
  "language_info": {
   "codemirror_mode": {
    "name": "ipython",
    "version": 3
   },
   "file_extension": ".py",
   "mimetype": "text/x-python",
   "name": "python",
   "nbconvert_exporter": "python",
   "pygments_lexer": "ipython3",
   "version": "3.11.10"
  }
 },
 "nbformat": 4,
 "nbformat_minor": 2
}
